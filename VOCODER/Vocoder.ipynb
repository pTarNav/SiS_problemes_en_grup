{
 "cells": [
  {
   "cell_type": "code",
   "execution_count": 16,
   "metadata": {},
   "outputs": [],
   "source": [
    "import numpy as np\n",
    "from scipy.io import loadmat\n",
    "import scipy.io.wavfile\n",
    "import matplotlib.pyplot as plt\n",
    "from scipy.signal import *\n",
    "from math import sqrt\n"
   ]
  },
  {
   "cell_type": "code",
   "execution_count": 17,
   "metadata": {},
   "outputs": [
    {
     "data": {
      "text/plain": [
       "{'__header__': b'MATLAB 5.0 MAT-file, Platform: PCWIN64, Created on: Wed Sep 09 12:18:20 2020',\n",
       " '__version__': '1.0',\n",
       " '__globals__': [],\n",
       " 'coef': array([[ 1.        , -0.40321523, -0.10422101, ...,  0.00110615,\n",
       "         -0.13328689,  0.09413874],\n",
       "        [ 1.        , -0.40364892,  0.00571017, ..., -0.11009042,\n",
       "         -0.23399183,  0.15338591],\n",
       "        [ 1.        , -0.30258198, -0.04449645, ..., -0.11747033,\n",
       "         -0.13732837,  0.12694894],\n",
       "        ...,\n",
       "        [ 1.        , -0.48897606, -0.2780322 , ...,  0.02094446,\n",
       "         -0.14134451,  0.17131546],\n",
       "        [ 1.        , -0.51040743, -0.16454425, ...,  0.03291948,\n",
       "          0.07583863, -0.03061901],\n",
       "        [ 1.        , -0.37012351, -0.29168727, ...,  0.03491205,\n",
       "          0.05917975,  0.00574997]]),\n",
       " 'excit': array([[ 0.23452913, -1.21976728,  0.07965829, ..., -2.13809009,\n",
       "         -1.20137136, -0.84286915],\n",
       "        [-1.36262477,  0.74873396,  0.47875199, ...,  0.46577369,\n",
       "          0.09968263,  0.58093255],\n",
       "        [ 0.05098129, -1.18145532, -0.01785596, ..., -0.93442135,\n",
       "          0.10412872, -3.08643283],\n",
       "        ...,\n",
       "        [-0.89492705,  0.94861139,  0.36846812, ..., -0.92826135,\n",
       "         -0.11717215, -1.67710678],\n",
       "        [-1.77881243, -1.87038623,  1.32663147, ...,  1.77067291,\n",
       "          0.93534085, -1.22407457],\n",
       "        [-1.2361834 , -0.35993016,  2.34187202, ...,  0.87091662,\n",
       "         -0.33127072,  0.94806247]]),\n",
       " 'ganancia': array([[2.85768166e-04, 2.79046009e-04, 3.13828926e-04, 2.36140803e-04,\n",
       "         2.55535513e-04, 2.80640879e-04, 2.76064309e-04, 2.86251938e-04,\n",
       "         2.86794344e-04, 2.62571265e-04, 2.30253490e-04, 1.86749243e-04,\n",
       "         1.90666446e-04, 1.49699639e-04, 1.51802627e-04, 1.56560309e-04,\n",
       "         1.94262540e-04, 3.77412119e-04, 1.00293162e-03, 2.41482844e-03,\n",
       "         2.33232654e-03, 2.00174164e-03, 2.20298658e-03, 2.04803686e-03,\n",
       "         2.32977751e-03, 1.91298875e-03, 1.46366497e-03, 1.01702044e-01,\n",
       "         1.91751200e-01, 2.11764315e-01, 2.28402940e-01, 1.95615390e-01,\n",
       "         1.38684877e-01, 7.49322987e-02, 3.68311539e-02, 1.71600768e-02,\n",
       "         1.07651512e-02, 8.35927428e-03, 7.98662631e-03, 7.89789923e-03,\n",
       "         8.28430577e-04, 1.56676800e-03, 1.80280913e-03, 1.68626511e-03,\n",
       "         2.17848193e-03, 2.26257087e-03, 2.23662735e-03, 1.50556074e-02,\n",
       "         1.69925580e-03, 7.93311890e-04, 3.16279556e-04, 2.02279049e-04,\n",
       "         1.53613922e-04, 1.66171798e-04, 1.52385901e-04, 1.39183357e-04,\n",
       "         1.42743296e-04, 1.51106030e-04, 1.89971319e-03, 4.89353128e-02,\n",
       "         8.18287577e-02, 1.10096822e-01, 1.18429758e-01, 1.32409640e-01,\n",
       "         1.10670949e-01, 2.58620897e-02, 7.05751587e-02, 8.93552488e-02,\n",
       "         4.32079906e-02, 8.35791459e-03, 3.37981274e-04, 2.18896535e-04,\n",
       "         2.06182867e-04, 2.74867297e-04, 8.03671323e-04, 6.11077674e-04,\n",
       "         1.10777282e-02, 2.46607501e-02, 3.17681524e-02, 4.66181777e-02,\n",
       "         5.13855469e-02, 3.53873895e-02, 3.47270753e-02, 4.16890728e-02,\n",
       "         4.96051360e-02, 4.07151445e-02, 2.98029774e-02, 2.43468843e-02,\n",
       "         1.82895436e-02, 2.20630477e-03, 1.53763209e-03, 1.33565247e-03,\n",
       "         1.09330962e-03, 1.01713728e-03, 1.07319226e-03, 8.88132596e-04,\n",
       "         6.83950349e-04, 9.58627256e-03, 1.25955757e-02, 1.65224929e-02,\n",
       "         2.34455912e-02, 4.03641320e-02, 3.86463334e-02, 3.52634459e-02,\n",
       "         2.07333267e-02, 1.40220487e-02, 1.57535523e-02, 2.85418004e-02,\n",
       "         8.16893031e-02, 1.04727561e-01, 1.27879817e-01, 1.37324296e-01,\n",
       "         1.39127677e-01, 1.42087576e-01, 1.10137700e-01, 3.89679846e-02,\n",
       "         2.22353833e-02, 5.56681754e-02, 4.54351531e-02, 4.35930884e-02,\n",
       "         1.80338189e-02, 9.69621174e-04, 6.16619744e-04, 1.20718869e-03,\n",
       "         1.96259338e-02, 4.01392982e-02, 5.54456640e-02, 6.13791971e-02,\n",
       "         5.30985924e-02, 5.27137789e-03, 4.92948396e-03, 3.37726960e-03,\n",
       "         5.76664925e-03, 9.99317009e-04, 2.52361616e-04, 1.96182241e-04,\n",
       "         1.93211137e-04, 6.34588128e-04, 6.87818291e-04, 1.30011248e-03,\n",
       "         1.71527770e-03, 1.58569908e-02, 6.57887816e-03, 5.59929735e-04,\n",
       "         4.38137772e-04, 4.45162029e-04, 6.26612569e-04, 1.48315092e-03,\n",
       "         1.91881123e-02, 2.36366601e-02, 2.49621775e-02, 2.52891237e-02,\n",
       "         2.39315894e-02, 3.23726900e-02, 4.38221174e-02, 6.00177468e-02,\n",
       "         9.07416590e-02, 1.26613100e-01, 1.46340953e-01, 1.38612236e-01,\n",
       "         1.40980635e-01, 1.14066476e-01, 4.27584736e-02, 3.21855681e-02,\n",
       "         3.18003982e-02, 2.90775804e-02, 5.90986917e-02, 1.09024846e-01,\n",
       "         1.12683532e-01, 9.81198506e-02, 4.92015703e-02, 3.25734324e-02,\n",
       "         2.45248016e-03, 7.62536523e-04, 3.62204668e-04, 2.06804267e-04,\n",
       "         4.76886561e-04, 7.17107336e-04, 7.90685673e-04, 8.92018791e-04,\n",
       "         8.26804106e-04, 9.09035610e-04, 7.47092950e-04, 6.78083575e-04,\n",
       "         6.30851054e-04, 4.07466294e-04, 3.25376033e-04, 2.22219813e-04,\n",
       "         1.53356973e-04, 1.62015091e-04, 6.62218746e-04, 1.29663537e-03,\n",
       "         1.17831420e-03, 1.56141799e-03, 1.67112116e-03, 1.93115032e-03,\n",
       "         1.82746547e-03, 1.30300692e-03, 1.44212682e-03, 1.16017802e-02,\n",
       "         1.76145945e-02, 3.75984502e-02, 6.54674096e-02, 9.72506871e-02,\n",
       "         1.17993572e-01, 1.36468048e-01, 1.23460162e-01, 3.94397613e-02,\n",
       "         7.05654044e-02, 8.93104250e-02, 8.23143597e-02, 7.34091626e-02,\n",
       "         5.53985308e-02, 3.52882529e-02, 2.56097148e-02, 2.64548981e-02,\n",
       "         2.58922951e-02, 3.82760337e-02, 4.72335304e-02, 4.69508669e-02,\n",
       "         4.97762910e-02, 3.71580320e-02, 2.79102668e-02, 2.45434208e-02,\n",
       "         2.38467259e-02, 3.52600196e-02, 5.68067994e-02, 7.53331410e-02,\n",
       "         7.48243871e-02, 6.36297429e-02, 4.17085217e-02, 3.16303099e-02,\n",
       "         2.97344418e-03, 2.21439239e-03, 1.29537261e-03, 8.73864145e-04,\n",
       "         3.28658398e-04, 9.07533461e-04, 1.10788238e-03, 1.45362301e-02,\n",
       "         3.87880583e-02, 4.83740581e-02, 6.30912234e-02, 6.93405283e-02,\n",
       "         6.92495695e-02, 7.91175938e-02, 7.09237376e-02, 5.06959374e-02,\n",
       "         2.64255538e-02, 2.79030568e-02, 3.31188798e-03, 2.50741947e-03,\n",
       "         1.78570196e-03, 1.32802446e-03, 2.00082963e-03, 1.50536045e-03,\n",
       "         3.84640510e-02, 6.01627407e-02, 5.93717687e-02, 5.13164890e-02,\n",
       "         3.17715911e-02, 2.79552199e-02, 3.51426597e-03, 3.52044053e-03,\n",
       "         1.95599804e-03, 9.65097163e-03, 1.55928485e-02, 2.32344122e-02,\n",
       "         2.48688689e-02, 2.27008686e-02, 2.67582676e-02, 2.20159179e-02,\n",
       "         2.31814508e-02, 2.59169031e-02, 3.09071827e-02, 8.34909162e-03,\n",
       "         6.85336582e-04, 2.44238002e-04, 1.83396939e-04, 1.85847675e-04,\n",
       "         4.30962957e-03, 2.84063735e-02, 2.94799629e-02, 4.56405659e-03,\n",
       "         3.29187818e-03, 2.47739099e-02, 3.40276152e-02, 2.94078557e-02,\n",
       "         3.26874953e-02, 3.14282592e-03, 2.53320294e-03, 2.26587036e-03,\n",
       "         1.84583980e-03, 1.77771396e-03, 2.19009788e-03, 2.20745405e-03,\n",
       "         1.89179082e-03, 1.17854402e-03, 1.26162514e-02, 1.98860847e-02,\n",
       "         2.33380039e-02, 2.69394169e-02, 3.91003380e-02, 4.52646999e-02,\n",
       "         4.87937701e-02, 4.43854642e-02, 3.83703515e-02, 2.51785913e-02,\n",
       "         2.17050046e-02, 2.39732645e-02, 2.83588625e-02, 3.69976525e-02,\n",
       "         6.90200356e-02, 1.14257684e-01, 1.12247553e-01, 1.10524795e-01,\n",
       "         9.17982033e-02, 4.68651049e-02, 3.32075920e-02, 3.46714641e-03,\n",
       "         2.49560865e-03, 1.71525890e-03, 1.67999739e-03, 1.94561171e-03,\n",
       "         3.12730841e-03, 1.85536651e-03, 1.98689832e-02, 6.61883718e-02,\n",
       "         4.98263635e-02, 1.58898326e-02, 4.47353926e-04, 2.56375819e-04,\n",
       "         2.28694482e-04, 1.89179757e-04, 5.84907556e-04, 7.86961395e-03,\n",
       "         2.17253915e-02, 3.28913670e-02, 3.52495659e-02, 1.45431546e-02,\n",
       "         4.08177644e-02, 3.25576204e-02, 3.51219443e-02, 5.21263381e-02,\n",
       "         2.29136958e-02, 3.15795777e-02, 3.57089857e-02, 2.93602343e-02,\n",
       "         2.25060812e-02, 1.77103984e-02, 1.32580392e-02, 9.43298355e-04,\n",
       "         5.29059370e-04, 6.63099261e-04, 2.16152971e-03, 2.49851885e-02,\n",
       "         2.31511839e-03, 1.58978473e-03, 1.36817327e-03, 9.04493332e-04,\n",
       "         9.08242922e-04, 8.54701543e-04, 1.01728260e-03, 1.93093712e-03,\n",
       "         1.92713437e-03, 1.83507771e-03, 1.55262742e-03, 1.52147767e-03,\n",
       "         1.00187570e-03, 7.64240578e-04, 8.13763984e-04, 7.63129496e-04,\n",
       "         7.20760137e-04, 2.31710969e-04, 1.83633342e-04, 1.45603681e-04,\n",
       "         1.51870376e-04, 1.52800394e-04, 1.75074552e-04, 1.58600874e-04,\n",
       "         1.54244335e-04, 1.51860373e-04, 1.65051657e-04, 1.56701893e-04,\n",
       "         1.48139403e-04, 1.46559460e-04, 1.55810732e-04, 1.41481629e-04,\n",
       "         1.46537553e-04, 1.53490088e-04, 1.48409573e-04, 1.64606419e-04,\n",
       "         1.59334399e-04, 1.54684510e-04, 1.42823530e-04, 1.65504153e-04,\n",
       "         1.58694803e-04, 1.55710830e-04, 1.67734551e-04, 1.54655373e-04,\n",
       "         1.53770445e-04]])}"
      ]
     },
     "execution_count": 17,
     "metadata": {},
     "output_type": "execute_result"
    }
   ],
   "source": [
    "sintesis = loadmat('sintesis.mat')\n",
    "sintesis"
   ]
  },
  {
   "cell_type": "code",
   "execution_count": 40,
   "metadata": {},
   "outputs": [
    {
     "data": {
      "text/plain": [
       "[<matplotlib.lines.Line2D at 0x7f5f8c63fa20>]"
      ]
     },
     "execution_count": 40,
     "metadata": {},
     "output_type": "execute_result"
    },
    {
     "data": {
      "image/png": "[encoded data removed]",
      "text/plain": [
       "<Figure size 432x288 with 1 Axes>"
      ]
     },
     "metadata": {
      "needs_background": "light"
     },
     "output_type": "display_data"
    }
   ],
   "source": [
    "a, b = sintesis['coef'], sintesis['ganancia'][0]\n",
    "x = np.zeros(120)\n",
    "x[0] = 1\n",
    "\n",
    "# 120 muestras, 15ms todas las muestras.\n",
    "plt.plot(lfilter(b, a[100], x))"
   ]
  },
  {
   "cell_type": "code",
   "execution_count": 54,
   "metadata": {},
   "outputs": [
    {
     "data": {
      "text/plain": [
       "array([ 0.00000000e+00,  0.00000000e+00,  0.00000000e+00,  0.00000000e+00,\n",
       "        0.00000000e+00,  0.00000000e+00,  0.00000000e+00,  0.00000000e+00,\n",
       "        0.00000000e+00,  0.00000000e+00,  0.00000000e+00,  0.00000000e+00,\n",
       "        0.00000000e+00,  0.00000000e+00,  0.00000000e+00,  0.00000000e+00,\n",
       "        0.00000000e+00,  0.00000000e+00,  0.00000000e+00,  0.00000000e+00,\n",
       "        0.00000000e+00,  0.00000000e+00,  0.00000000e+00,  2.85768166e-04,\n",
       "        7.24831301e-04,  1.28808480e-03,  1.92403251e-03,  2.68988125e-03,\n",
       "        3.51938109e-03,  4.37261482e-03,  5.17839595e-03,  5.91915535e-03,\n",
       "        6.55469371e-03,  7.04366347e-03,  7.32622659e-03,  7.43119326e-03,\n",
       "        7.33091601e-03,  7.05475981e-03,  6.63623928e-03,  6.14509129e-03,\n",
       "        5.77617865e-03,  6.12053580e-03,  8.30685660e-03,  1.15413107e-02,\n",
       "        1.53107591e-02,  2.01561274e-02,  2.57230563e-02,  3.16773582e-02,\n",
       "        3.73215982e-02,  4.20030562e-02,  1.45976441e-01,  3.95272033e-01,\n",
       "        7.46447020e-01,  1.20020759e+00,  1.72907450e+00,  2.25659553e+00,\n",
       "        2.71731715e+00,  3.07689172e+00,  3.29405014e+00,  3.35935665e+00,\n",
       "        3.27638694e+00,  3.05025886e+00,  2.70402089e+00,  2.26859414e+00,\n",
       "        1.77568260e+00,  1.25670314e+00,  7.43038502e-01,  2.59596074e-01,\n",
       "       -1.72018081e-01, -5.35737305e-01, -8.10058207e-01, -1.01048354e+00,\n",
       "       -1.13502708e+00, -1.18396600e+00, -1.16659347e+00, -1.09823027e+00,\n",
       "       -9.86176029e-01, -8.44597114e-01, -6.84057701e-01, -5.13157192e-01,\n",
       "       -3.42704566e-01, -1.80228226e-01,  1.65876093e-02,  2.54502998e-01,\n",
       "        5.32416498e-01,  8.44180533e-01,  1.19933296e+00,  1.55636970e+00,\n",
       "        1.82682668e+00,  2.07972169e+00,  2.31452987e+00,  2.43918712e+00,\n",
       "        2.43720058e+00,  2.35170485e+00,  2.17671284e+00,  1.92262481e+00,\n",
       "        1.61037227e+00,  1.25111067e+00,  8.75535588e-01,  5.26745983e-01,\n",
       "        2.17068112e-01, -4.34450158e-02, -2.23685184e-01, -3.19666456e-01,\n",
       "       -3.56997145e-01, -3.31752023e-01, -1.41798055e-01,  2.45125609e-01,\n",
       "        7.60112266e-01,  1.38621247e+00,  2.08269294e+00,  2.76273256e+00,\n",
       "        3.33741532e+00,  3.77015730e+00,  4.02056649e+00,  4.08029998e+00,\n",
       "        3.95523998e+00,  3.65859934e+00,  3.21919813e+00,  2.67725985e+00])"
      ]
     },
     "execution_count": 54,
     "metadata": {},
     "output_type": "execute_result"
    }
   ],
   "source": [
    "x = sintesis['excit'][100]\n",
    "lfilter(b, a[100], x)\n",
    "\n",
    "y[401][120]"
   ]
  },
  {
   "cell_type": "code",
   "execution_count": 67,
   "metadata": {},
   "outputs": [
    {
     "ename": "ValueError",
     "evalue": "Unexpected shape for zi: expected (400,), found (120,).",
     "output_type": "error",
     "traceback": [
      "\u001b[0;31m---------------------------------------------------------------------------\u001b[0m",
      "\u001b[0;31mValueError\u001b[0m                                Traceback (most recent call last)",
      "\u001b[0;32m<ipython-input-67-e8ebc0b2faa6>\u001b[0m in \u001b[0;36m<module>\u001b[0;34m\u001b[0m\n\u001b[1;32m     10\u001b[0m         \u001b[0my\u001b[0m \u001b[0;34m=\u001b[0m  \u001b[0mlfilter\u001b[0m\u001b[0;34m(\u001b[0m\u001b[0mb\u001b[0m\u001b[0;34m,\u001b[0m \u001b[0ma\u001b[0m\u001b[0;34m[\u001b[0m\u001b[0mi\u001b[0m\u001b[0;34m]\u001b[0m\u001b[0;34m,\u001b[0m \u001b[0mx\u001b[0m\u001b[0;34m[\u001b[0m\u001b[0mi\u001b[0m\u001b[0;34m]\u001b[0m\u001b[0;34m)\u001b[0m\u001b[0;34m\u001b[0m\u001b[0;34m\u001b[0m\u001b[0m\n\u001b[1;32m     11\u001b[0m     \u001b[0;32melif\u001b[0m \u001b[0mi\u001b[0m \u001b[0;34m==\u001b[0m \u001b[0;36m1\u001b[0m\u001b[0;34m:\u001b[0m\u001b[0;34m\u001b[0m\u001b[0;34m\u001b[0m\u001b[0m\n\u001b[0;32m---> 12\u001b[0;31m         \u001b[0mfiltro\u001b[0m\u001b[0;34m,\u001b[0m \u001b[0mzi\u001b[0m \u001b[0;34m=\u001b[0m \u001b[0mlfilter\u001b[0m\u001b[0;34m(\u001b[0m\u001b[0mb\u001b[0m\u001b[0;34m,\u001b[0m \u001b[0ma\u001b[0m\u001b[0;34m[\u001b[0m\u001b[0mi\u001b[0m\u001b[0;34m]\u001b[0m\u001b[0;34m,\u001b[0m \u001b[0mx\u001b[0m\u001b[0;34m[\u001b[0m\u001b[0mi\u001b[0m\u001b[0;34m]\u001b[0m\u001b[0;34m,\u001b[0m \u001b[0mzi\u001b[0m\u001b[0;34m=\u001b[0m\u001b[0my\u001b[0m\u001b[0;34m)\u001b[0m\u001b[0;34m\u001b[0m\u001b[0;34m\u001b[0m\u001b[0m\n\u001b[0m\u001b[1;32m     13\u001b[0m         \u001b[0my\u001b[0m \u001b[0;34m=\u001b[0m \u001b[0mnp\u001b[0m\u001b[0;34m.\u001b[0m\u001b[0mconcatenate\u001b[0m\u001b[0;34m(\u001b[0m\u001b[0my\u001b[0m\u001b[0;34m,\u001b[0m \u001b[0mfiltro\u001b[0m\u001b[0;34m,\u001b[0m \u001b[0maxis\u001b[0m\u001b[0;34m=\u001b[0m\u001b[0;32mNone\u001b[0m\u001b[0;34m)\u001b[0m\u001b[0;34m\u001b[0m\u001b[0;34m\u001b[0m\u001b[0m\n\u001b[1;32m     14\u001b[0m     \u001b[0;32melse\u001b[0m\u001b[0;34m:\u001b[0m\u001b[0;34m\u001b[0m\u001b[0;34m\u001b[0m\u001b[0m\n",
      "\u001b[0;32m~/anaconda3/lib/python3.7/site-packages/scipy/signal/signaltools.py\u001b[0m in \u001b[0;36mlfilter\u001b[0;34m(b, a, x, axis, zi)\u001b[0m\n\u001b[1;32m   1397\u001b[0m             \u001b[0;32mreturn\u001b[0m \u001b[0msigtools\u001b[0m\u001b[0;34m.\u001b[0m\u001b[0m_linear_filter\u001b[0m\u001b[0;34m(\u001b[0m\u001b[0mb\u001b[0m\u001b[0;34m,\u001b[0m \u001b[0ma\u001b[0m\u001b[0;34m,\u001b[0m \u001b[0mx\u001b[0m\u001b[0;34m,\u001b[0m \u001b[0maxis\u001b[0m\u001b[0;34m)\u001b[0m\u001b[0;34m\u001b[0m\u001b[0;34m\u001b[0m\u001b[0m\n\u001b[1;32m   1398\u001b[0m         \u001b[0;32melse\u001b[0m\u001b[0;34m:\u001b[0m\u001b[0;34m\u001b[0m\u001b[0;34m\u001b[0m\u001b[0m\n\u001b[0;32m-> 1399\u001b[0;31m             \u001b[0;32mreturn\u001b[0m \u001b[0msigtools\u001b[0m\u001b[0;34m.\u001b[0m\u001b[0m_linear_filter\u001b[0m\u001b[0;34m(\u001b[0m\u001b[0mb\u001b[0m\u001b[0;34m,\u001b[0m \u001b[0ma\u001b[0m\u001b[0;34m,\u001b[0m \u001b[0mx\u001b[0m\u001b[0;34m,\u001b[0m \u001b[0maxis\u001b[0m\u001b[0;34m,\u001b[0m \u001b[0mzi\u001b[0m\u001b[0;34m)\u001b[0m\u001b[0;34m\u001b[0m\u001b[0;34m\u001b[0m\u001b[0m\n\u001b[0m\u001b[1;32m   1400\u001b[0m \u001b[0;34m\u001b[0m\u001b[0m\n\u001b[1;32m   1401\u001b[0m \u001b[0;34m\u001b[0m\u001b[0m\n",
      "\u001b[0;31mValueError\u001b[0m: Unexpected shape for zi: expected (400,), found (120,)."
     ]
    }
   ],
   "source": [
    "y = []\n",
    "x = sintesis['excit']\n",
    "a = sintesis['coef']\n",
    "b = sintesis['ganancia'][0]\n",
    "longitud = len(a)\n",
    "zf = []\n",
    "for i in range(longitud):\n",
    "    if i == 0:\n",
    "        y = np.concatenate((y, lfilter(b, a[i], x[i])), axis=None)\n",
    "    elif i == 1:\n",
    "        \n",
    "    #np.concatenate(y, lfilter(b, a[i], x[i]))\n",
    "plt.plot(y), y"
   ]
  },
  {
   "cell_type": "code",
   "execution_count": 69,
   "metadata": {},
   "outputs": [
    {
     "ename": "ValueError",
     "evalue": "Unexpected shape for zi: expected (400,), found (120,).",
     "output_type": "error",
     "traceback": [
      "\u001b[0;31m---------------------------------------------------------------------------\u001b[0m",
      "\u001b[0;31mValueError\u001b[0m                                Traceback (most recent call last)",
      "\u001b[0;32m<ipython-input-69-0fc86a9d2e58>\u001b[0m in \u001b[0;36m<module>\u001b[0;34m\u001b[0m\n\u001b[1;32m     10\u001b[0m         \u001b[0my\u001b[0m \u001b[0;34m=\u001b[0m  \u001b[0mlfilter\u001b[0m\u001b[0;34m(\u001b[0m\u001b[0mb\u001b[0m\u001b[0;34m,\u001b[0m \u001b[0ma\u001b[0m\u001b[0;34m[\u001b[0m\u001b[0mi\u001b[0m\u001b[0;34m]\u001b[0m\u001b[0;34m,\u001b[0m \u001b[0mx\u001b[0m\u001b[0;34m[\u001b[0m\u001b[0mi\u001b[0m\u001b[0;34m]\u001b[0m\u001b[0;34m)\u001b[0m\u001b[0;34m\u001b[0m\u001b[0;34m\u001b[0m\u001b[0m\n\u001b[1;32m     11\u001b[0m     \u001b[0;32melif\u001b[0m \u001b[0mi\u001b[0m \u001b[0;34m==\u001b[0m \u001b[0;36m1\u001b[0m\u001b[0;34m:\u001b[0m\u001b[0;34m\u001b[0m\u001b[0;34m\u001b[0m\u001b[0m\n\u001b[0;32m---> 12\u001b[0;31m         \u001b[0mfiltro\u001b[0m\u001b[0;34m,\u001b[0m \u001b[0mzf\u001b[0m \u001b[0;34m=\u001b[0m \u001b[0mlfilter\u001b[0m\u001b[0;34m(\u001b[0m\u001b[0mb\u001b[0m\u001b[0;34m,\u001b[0m \u001b[0ma\u001b[0m\u001b[0;34m[\u001b[0m\u001b[0mi\u001b[0m\u001b[0;34m]\u001b[0m\u001b[0;34m,\u001b[0m \u001b[0mx\u001b[0m\u001b[0;34m[\u001b[0m\u001b[0mi\u001b[0m\u001b[0;34m]\u001b[0m\u001b[0;34m,\u001b[0m \u001b[0mzi\u001b[0m\u001b[0;34m=\u001b[0m\u001b[0my\u001b[0m\u001b[0;34m)\u001b[0m\u001b[0;34m\u001b[0m\u001b[0;34m\u001b[0m\u001b[0m\n\u001b[0m\u001b[1;32m     13\u001b[0m         \u001b[0my\u001b[0m \u001b[0;34m=\u001b[0m \u001b[0mnp\u001b[0m\u001b[0;34m.\u001b[0m\u001b[0mconcatenate\u001b[0m\u001b[0;34m(\u001b[0m\u001b[0my\u001b[0m\u001b[0;34m,\u001b[0m \u001b[0mfiltro\u001b[0m\u001b[0;34m,\u001b[0m \u001b[0maxis\u001b[0m\u001b[0;34m=\u001b[0m\u001b[0;32mNone\u001b[0m\u001b[0;34m)\u001b[0m\u001b[0;34m\u001b[0m\u001b[0;34m\u001b[0m\u001b[0m\n\u001b[1;32m     14\u001b[0m     \u001b[0;32melse\u001b[0m\u001b[0;34m:\u001b[0m\u001b[0;34m\u001b[0m\u001b[0;34m\u001b[0m\u001b[0m\n",
      "\u001b[0;32m~/anaconda3/lib/python3.7/site-packages/scipy/signal/signaltools.py\u001b[0m in \u001b[0;36mlfilter\u001b[0;34m(b, a, x, axis, zi)\u001b[0m\n\u001b[1;32m   1397\u001b[0m             \u001b[0;32mreturn\u001b[0m \u001b[0msigtools\u001b[0m\u001b[0;34m.\u001b[0m\u001b[0m_linear_filter\u001b[0m\u001b[0;34m(\u001b[0m\u001b[0mb\u001b[0m\u001b[0;34m,\u001b[0m \u001b[0ma\u001b[0m\u001b[0;34m,\u001b[0m \u001b[0mx\u001b[0m\u001b[0;34m,\u001b[0m \u001b[0maxis\u001b[0m\u001b[0;34m)\u001b[0m\u001b[0;34m\u001b[0m\u001b[0;34m\u001b[0m\u001b[0m\n\u001b[1;32m   1398\u001b[0m         \u001b[0;32melse\u001b[0m\u001b[0;34m:\u001b[0m\u001b[0;34m\u001b[0m\u001b[0;34m\u001b[0m\u001b[0m\n\u001b[0;32m-> 1399\u001b[0;31m             \u001b[0;32mreturn\u001b[0m \u001b[0msigtools\u001b[0m\u001b[0;34m.\u001b[0m\u001b[0m_linear_filter\u001b[0m\u001b[0;34m(\u001b[0m\u001b[0mb\u001b[0m\u001b[0;34m,\u001b[0m \u001b[0ma\u001b[0m\u001b[0;34m,\u001b[0m \u001b[0mx\u001b[0m\u001b[0;34m,\u001b[0m \u001b[0maxis\u001b[0m\u001b[0;34m,\u001b[0m \u001b[0mzi\u001b[0m\u001b[0;34m)\u001b[0m\u001b[0;34m\u001b[0m\u001b[0;34m\u001b[0m\u001b[0m\n\u001b[0m\u001b[1;32m   1400\u001b[0m \u001b[0;34m\u001b[0m\u001b[0m\n\u001b[1;32m   1401\u001b[0m \u001b[0;34m\u001b[0m\u001b[0m\n",
      "\u001b[0;31mValueError\u001b[0m: Unexpected shape for zi: expected (400,), found (120,)."
     ]
    }
   ],
   "source": [
    "y = []\n",
    "x = sintesis['excit']\n",
    "a = sintesis['coef']\n",
    "b = sintesis['ganancia'][0]\n",
    "longitud = len(a)\n",
    "\n",
    "zf = []\n",
    "for i in range(longitud):\n",
    "    if i == 0:\n",
    "        y =  lfilter(b, a[i], x[i])\n",
    "    elif i == 1:\n",
    "        filtro, zf = lfilter(b, a[i], x[i], zi=y)\n",
    "        y = np.concatenate(y, filtro, axis=None)\n",
    "    else:\n",
    "        filtro, zf = lfilter(b, a[i], y, zi=zf)\n",
    "        y = np.concatenate(y, filtro, axis=None)\n",
    "\n",
    "        \n",
    "    #np.concatenate(y, lfilter(b, a[i], x[i]))\n",
    "plt.plot(y), y"
   ]
  }
 ],
 "metadata": {
  "kernelspec": {
   "display_name": "Python 3",
   "language": "python",
   "name": "python3"
  },
  "language_info": {
   "codemirror_mode": {
    "name": "ipython",
    "version": 3
   },
   "file_extension": ".py",
   "mimetype": "text/x-python",
   "name": "python",
   "nbconvert_exporter": "python",
   "pygments_lexer": "ipython3",
   "version": "3.7.3"
  }
 },
 "nbformat": 4,
 "nbformat_minor": 2
}
